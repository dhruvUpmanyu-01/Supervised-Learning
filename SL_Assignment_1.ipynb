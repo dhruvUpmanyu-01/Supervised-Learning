{
  "nbformat": 4,
  "nbformat_minor": 0,
  "metadata": {
    "colab": {
      "provenance": [],
      "authorship_tag": "ABX9TyPAwt9xheIg5BPuyX1b+BrR",
      "include_colab_link": true
    },
    "kernelspec": {
      "name": "python3",
      "display_name": "Python 3"
    },
    "language_info": {
      "name": "python"
    }
  },
  "cells": [
    {
      "cell_type": "markdown",
      "metadata": {
        "id": "view-in-github",
        "colab_type": "text"
      },
      "source": [
        "<a href=\"https://colab.research.google.com/github/dhruvUpmanyu-01/Supervised-Learning/blob/main/SL_Assignment_1.ipynb\" target=\"_parent\"><img src=\"https://colab.research.google.com/assets/colab-badge.svg\" alt=\"Open In Colab\"/></a>"
      ]
    },
    {
      "cell_type": "code",
      "execution_count": null,
      "metadata": {
        "colab": {
          "base_uri": "https://localhost:8080/"
        },
        "id": "2_OqPLQdRs0p",
        "outputId": "ae7a6218-2845-4ad1-a76b-4b6897e0a700"
      },
      "outputs": [
        {
          "output_type": "stream",
          "name": "stdout",
          "text": [
            "Enter the number of Digits : 6\n",
            "[0, 1, 1, 2, 3, 5]\n"
          ]
        }
      ],
      "source": [
        "# Write a function to generate the first n Fibonacci numbers using a loop. For example, if n = 6, the output should be [0, 1, 1, 2, 3, 5].\n",
        "\n",
        "a = 0\n",
        "b = 1\n",
        "n = int(input(\"Enter the number of Digits : \"))\n",
        "l = []\n",
        "if n < 1:\n",
        "    print(\"Enter valid number of digits\")\n",
        "elif n == 1:\n",
        "    l.append(a)\n",
        "else:\n",
        "    l.append(a)\n",
        "    l.append(b)\n",
        "for i in range(n-2):\n",
        "    c = a + b\n",
        "    a = b\n",
        "    b = c\n",
        "    l.append(c)\n",
        "\n",
        "print(l)"
      ]
    },
    {
      "cell_type": "code",
      "source": [
        "# Write a function to compute the factorial of a given number using a loop. For example, factorial(5) should return 120.\n",
        "\n",
        "n = int(input(\"Enter the number : \"))\n",
        "fact = 1\n",
        "for i in range(1, n+1):\n",
        "    fact = fact * i\n",
        "print(fact)"
      ],
      "metadata": {
        "colab": {
          "base_uri": "https://localhost:8080/"
        },
        "id": "xYeMc3SgST_9",
        "outputId": "612cb66a-88e4-4e7d-ce0f-c586b9db4634"
      },
      "execution_count": null,
      "outputs": [
        {
          "output_type": "stream",
          "name": "stdout",
          "text": [
            "Enter the number : 5\n",
            "120\n"
          ]
        }
      ]
    },
    {
      "cell_type": "code",
      "source": [
        "# Write a function that takes an integer and returns the sum of its digits. For example, for the number 1234, the output should be 10 (1 + 2 + 3 + 4).\n",
        "\n",
        "n = int(input(\"Enter the number : \"))\n",
        "sum = 0\n",
        "while n > 0:\n",
        "    sum = sum + n % 10\n",
        "    n = n // 10\n",
        "print(sum)\n"
      ],
      "metadata": {
        "colab": {
          "base_uri": "https://localhost:8080/"
        },
        "id": "EtyXEH89VHeK",
        "outputId": "90039340-1c44-498e-b459-a3fb11ed9e97"
      },
      "execution_count": null,
      "outputs": [
        {
          "output_type": "stream",
          "name": "stdout",
          "text": [
            "Enter the number : 1234\n",
            "10\n"
          ]
        }
      ]
    },
    {
      "cell_type": "code",
      "source": [
        "# Write a function to check if a given number is prime using a loop. For example, is_prime(29) should return True, and is_prime(10) should return False.\n",
        "\n",
        "n = int(input(\"Enter the number : \"))\n",
        "if n > 1:\n",
        "    for i in range(2, n):\n",
        "        if n % i == 0:\n",
        "            print(\"False\")\n",
        "            break\n",
        "    else:\n",
        "        print(\"True\")\n",
        "else:\n",
        "    print(\"False\")"
      ],
      "metadata": {
        "colab": {
          "base_uri": "https://localhost:8080/"
        },
        "id": "uyIx7wfdVVp8",
        "outputId": "b8e8c2a7-c53d-4c88-e281-c610c68bb72f"
      },
      "execution_count": null,
      "outputs": [
        {
          "output_type": "stream",
          "name": "stdout",
          "text": [
            "Enter the number : 10\n",
            "False\n"
          ]
        }
      ]
    },
    {
      "cell_type": "code",
      "source": [
        "# Write a function to reverse a given string using a loop. For example, for the input \"hello\", the output should be \"olleh\".\n",
        "\n",
        "s = input(\"Enter the string : \")\n",
        "rev = \"\"\n",
        "for i in s:\n",
        "    rev = i + rev\n",
        "print(rev)"
      ],
      "metadata": {
        "colab": {
          "base_uri": "https://localhost:8080/"
        },
        "id": "orL83uOHWAhP",
        "outputId": "ade83ca0-6042-4d48-d5b9-57353a58bc8a"
      },
      "execution_count": null,
      "outputs": [
        {
          "output_type": "stream",
          "name": "stdout",
          "text": [
            "Enter the string : hello\n",
            "olleh\n"
          ]
        }
      ]
    },
    {
      "cell_type": "code",
      "source": [
        "# Write a function to check if a given string is a palindrome using a loop. For example, \"madam\" is a palindrome.\n",
        "\n",
        "s = input(\"Enter the string : \")\n",
        "rev = \"\"\n",
        "for i in s:\n",
        "    rev = i + rev\n",
        "if s == rev:\n",
        "    print(\"Palindrome\")\n",
        "else:\n",
        "    print(\"Not Palindrome\")"
      ],
      "metadata": {
        "colab": {
          "base_uri": "https://localhost:8080/"
        },
        "id": "IORgVUnKWQ8U",
        "outputId": "1775cb92-3cea-44c9-cbc4-af3cb96d56c0"
      },
      "execution_count": null,
      "outputs": [
        {
          "output_type": "stream",
          "name": "stdout",
          "text": [
            "Enter the string : madam\n",
            "Palindrome\n"
          ]
        }
      ]
    },
    {
      "cell_type": "code",
      "source": [
        "# Write a function that prints the multiplication table for a given number n up to 10.\n",
        "\n",
        "n = int(input(\"Enter the number : \"))\n",
        "for i in range(1, 11):\n",
        "    print(n, \"*\", i, \"=\", n*i)"
      ],
      "metadata": {
        "colab": {
          "base_uri": "https://localhost:8080/"
        },
        "id": "FZDJWY6EWVsP",
        "outputId": "184f4237-b070-4177-adee-e6c6189bf49b"
      },
      "execution_count": null,
      "outputs": [
        {
          "output_type": "stream",
          "name": "stdout",
          "text": [
            "Enter the number : 5\n",
            "5 * 1 = 5\n",
            "5 * 2 = 10\n",
            "5 * 3 = 15\n",
            "5 * 4 = 20\n",
            "5 * 5 = 25\n",
            "5 * 6 = 30\n",
            "5 * 7 = 35\n",
            "5 * 8 = 40\n",
            "5 * 9 = 45\n",
            "5 * 10 = 50\n"
          ]
        }
      ]
    },
    {
      "cell_type": "code",
      "source": [
        "# Write a function that finds the largest number in a list using a loop. For example, given [4, 7, 1, 8, 3], the output should be 8.\n",
        "\n",
        "n = int(input(\"Enter the number of elements : \"))\n",
        "l = []\n",
        "for i in range(n):\n",
        "    a = int(input(\"Enter the element : \"))\n",
        "    l.append(a)\n",
        "max = l[0]\n",
        "for i in l:\n",
        "    if i > max:\n",
        "        max = i\n",
        "print(\"Largest Number is : \", max)"
      ],
      "metadata": {
        "colab": {
          "base_uri": "https://localhost:8080/"
        },
        "id": "uVhk-v4FWl8V",
        "outputId": "0eca89ae-fb29-4e8f-b170-e9e475b79a32"
      },
      "execution_count": null,
      "outputs": [
        {
          "output_type": "stream",
          "name": "stdout",
          "text": [
            "Enter the number of elements : 5\n",
            "Enter the element : 4\n",
            "Enter the element : 7\n",
            "Enter the element : 1\n",
            "Enter the element : 8\n",
            "Enter the element : 3\n",
            "Largest Number is :  8\n"
          ]
        }
      ]
    },
    {
      "cell_type": "code",
      "source": [
        "'''\n",
        "# Write a function that prints a pattern of stars based on the number of rows provided. For example, if rows = 5, the output should be:\n",
        "*\n",
        "**\n",
        "***\n",
        "****\n",
        "*****\n",
        "'''\n",
        "\n",
        "n = int(input(\"Enter the number of rows : \"))\n",
        "print()\n",
        "for i in range(1, n+1):\n",
        "    for j in range(1,i+1):\n",
        "        print(\"*\", end=\"\")\n",
        "    print()\n"
      ],
      "metadata": {
        "colab": {
          "base_uri": "https://localhost:8080/"
        },
        "id": "SbW3Y8wOWvLo",
        "outputId": "5567e9b9-4e77-48be-a120-b83fc2151f72"
      },
      "execution_count": null,
      "outputs": [
        {
          "output_type": "stream",
          "name": "stdout",
          "text": [
            "Enter the number of rows : 4\n",
            "\n",
            "*\n",
            "**\n",
            "***\n",
            "****\n"
          ]
        }
      ]
    },
    {
      "cell_type": "code",
      "source": [
        "# Write a function that takes a list of integers and returns two lists: one containing all the even numbers and the other containing all the odd numbers.\n",
        "\n",
        "def separate(n):\n",
        "    even = []\n",
        "    odd = []\n",
        "    for i in n:\n",
        "        if i % 2 == 0:\n",
        "            even.append(i)\n",
        "        else:\n",
        "            odd.append(i)\n",
        "    return even, odd\n",
        "\n",
        "n = [1, 2, 3, 4, 5, 6, 7, 8, 9, 10]\n",
        "evens, odds = separate(n)\n",
        "print(\"Even numbers:\", evens)\n",
        "print(\"Odd numbers:\", odds)"
      ],
      "metadata": {
        "colab": {
          "base_uri": "https://localhost:8080/"
        },
        "id": "JJWOBO1iXzkz",
        "outputId": "1626b719-27fa-471d-e61e-47770b1c202d"
      },
      "execution_count": null,
      "outputs": [
        {
          "output_type": "stream",
          "name": "stdout",
          "text": [
            "Even numbers: [2, 4, 6, 8, 10]\n",
            "Odd numbers: [1, 3, 5, 7, 9]\n"
          ]
        }
      ]
    },
    {
      "cell_type": "code",
      "source": [
        "# Write a function that takes a string and returns the count of vowels and consonants. For example, for the input \"hello world\", the output should be {'vowels': 3, 'consonants': 7}.\n",
        "\n",
        "def count(s):\n",
        "    s = s.lower()\n",
        "    vowels = 0\n",
        "    consonants = 0\n",
        "    for i in s:\n",
        "        if i in 'aeiou':\n",
        "            vowels += 1\n",
        "        elif i.isalpha():\n",
        "            consonants += 1\n",
        "    return {'vowels': vowels, 'consonants': consonants}\n",
        "\n",
        "s = input(\"Enter the string : \")\n",
        "result = count(s)\n",
        "print(result)\n"
      ],
      "metadata": {
        "colab": {
          "base_uri": "https://localhost:8080/"
        },
        "id": "8wCa--pdYKS7",
        "outputId": "2d30d9f0-86c0-4c38-fe27-4f0bd913e9b5"
      },
      "execution_count": null,
      "outputs": [
        {
          "output_type": "stream",
          "name": "stdout",
          "text": [
            "Enter the string : Hello World\n",
            "{'vowels': 3, 'consonants': 7}\n"
          ]
        }
      ]
    },
    {
      "cell_type": "code",
      "source": [
        "'''\n",
        "# Write a function that prints a number pattern based on a given integer n. For example, for n = 4, the output should be:\n",
        "1\n",
        "22\n",
        "333\n",
        "4444\n",
        "'''\n",
        "\n",
        "n = int(input(\"Enter the number of rows : \"))\n",
        "for i in range(1,n+1):\n",
        "    for j in range(1,i+1):\n",
        "        print(i, end=\"\")\n",
        "    print()"
      ],
      "metadata": {
        "colab": {
          "base_uri": "https://localhost:8080/"
        },
        "id": "NRmQyaiyZO_E",
        "outputId": "52d6ab51-a7e4-4a21-d7b6-8f31d9a9a20f"
      },
      "execution_count": null,
      "outputs": [
        {
          "output_type": "stream",
          "name": "stdout",
          "text": [
            "Enter the number of rows : 4\n",
            "1\n",
            "22\n",
            "333\n",
            "4444\n"
          ]
        }
      ]
    },
    {
      "cell_type": "code",
      "source": [
        "# Write a function that prints all multiples of a given number up to a specified limit. For example, for num = 3 and limit = 20, the output should be 3, 6, 9, 12, 15, 18.\n",
        "\n",
        "num = int(input(\"Enter the number : \"))\n",
        "limit = int(input(\"Enter the limit: \"))\n",
        "\n",
        "i = 1\n",
        "multiple = num\n",
        "while(multiple <= limit-num):\n",
        "    multiple = i * num\n",
        "    print(multiple, \", \", end=\"\")\n",
        "    i = i + 1"
      ],
      "metadata": {
        "colab": {
          "base_uri": "https://localhost:8080/"
        },
        "id": "fP60DUPAaOy8",
        "outputId": "f42ccf62-2dd1-4553-bc8f-415d5ef033cb"
      },
      "execution_count": null,
      "outputs": [
        {
          "output_type": "stream",
          "name": "stdout",
          "text": [
            "Enter the number : 3\n",
            "Enter the limit: 20\n",
            "3 , 6 , 9 , 12 , 15 , 18 , "
          ]
        }
      ]
    },
    {
      "cell_type": "code",
      "source": [
        "# Write a function that takes a list of integers and returns a tuple with the sum of even numbers and the sum of odd numbers. For example, for the list [1, 2, 3, 4, 5, 6], the output should be (12, 9).\n",
        "\n",
        "def sum(numbers):\n",
        "    even = 0\n",
        "    odd = 0\n",
        "    for num in numbers:\n",
        "        if num % 2 == 0:\n",
        "            even += num\n",
        "        else:\n",
        "            odd += num\n",
        "    return (even, odd)\n",
        "\n",
        "num = [1, 2, 3, 4, 5, 6]\n",
        "result = sum(num)\n",
        "print(result)"
      ],
      "metadata": {
        "colab": {
          "base_uri": "https://localhost:8080/"
        },
        "id": "149pkvFLbOIs",
        "outputId": "0d5e740c-0543-48b1-aee6-8bf012e4bda1"
      },
      "execution_count": null,
      "outputs": [
        {
          "output_type": "stream",
          "name": "stdout",
          "text": [
            "(12, 9)\n"
          ]
        }
      ]
    }
  ]
}